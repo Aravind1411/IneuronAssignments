{
 "cells": [
  {
   "cell_type": "code",
   "execution_count": 87,
   "metadata": {},
   "outputs": [
    {
     "name": "stdout",
     "output_type": "stream",
     "text": [
      "   Intercept  C(occupation)[T.2.0]  C(occupation)[T.3.0]  \\\n",
      "0        1.0                   1.0                   0.0   \n",
      "1        1.0                   0.0                   1.0   \n",
      "2        1.0                   0.0                   1.0   \n",
      "3        1.0                   0.0                   0.0   \n",
      "4        1.0                   0.0                   1.0   \n",
      "5        1.0                   0.0                   1.0   \n",
      "6        1.0                   0.0                   0.0   \n",
      "7        1.0                   1.0                   0.0   \n",
      "8        1.0                   0.0                   1.0   \n",
      "9        1.0                   0.0                   1.0   \n",
      "\n",
      "   C(occupation)[T.4.0]  C(occupation)[T.5.0]  C(occupation)[T.6.0]  \\\n",
      "0                   0.0                   0.0                   0.0   \n",
      "1                   0.0                   0.0                   0.0   \n",
      "2                   0.0                   0.0                   0.0   \n",
      "3                   0.0                   1.0                   0.0   \n",
      "4                   0.0                   0.0                   0.0   \n",
      "5                   0.0                   0.0                   0.0   \n",
      "6                   0.0                   1.0                   0.0   \n",
      "7                   0.0                   0.0                   0.0   \n",
      "8                   0.0                   0.0                   0.0   \n",
      "9                   0.0                   0.0                   0.0   \n",
      "\n",
      "   C(occupation_husb)[T.2.0]  C(occupation_husb)[T.3.0]  \\\n",
      "0                        0.0                        0.0   \n",
      "1                        0.0                        0.0   \n",
      "2                        0.0                        0.0   \n",
      "3                        0.0                        0.0   \n",
      "4                        0.0                        0.0   \n",
      "5                        0.0                        0.0   \n",
      "6                        0.0                        0.0   \n",
      "7                        0.0                        1.0   \n",
      "8                        0.0                        1.0   \n",
      "9                        0.0                        0.0   \n",
      "\n",
      "   C(occupation_husb)[T.4.0]  C(occupation_husb)[T.5.0]  \\\n",
      "0                        0.0                        1.0   \n",
      "1                        1.0                        0.0   \n",
      "2                        0.0                        1.0   \n",
      "3                        0.0                        1.0   \n",
      "4                        1.0                        0.0   \n",
      "5                        1.0                        0.0   \n",
      "6                        1.0                        0.0   \n",
      "7                        0.0                        0.0   \n",
      "8                        0.0                        0.0   \n",
      "9                        0.0                        1.0   \n",
      "\n",
      "   C(occupation_husb)[T.6.0]  rate_marriage   age  yrs_married  children  \\\n",
      "0                        0.0            3.0  32.0          9.0       3.0   \n",
      "1                        0.0            3.0  27.0         13.0       3.0   \n",
      "2                        0.0            4.0  22.0          2.5       0.0   \n",
      "3                        0.0            4.0  37.0         16.5       4.0   \n",
      "4                        0.0            5.0  27.0          9.0       1.0   \n",
      "5                        0.0            4.0  27.0          9.0       0.0   \n",
      "6                        0.0            5.0  37.0         23.0       5.5   \n",
      "7                        0.0            5.0  37.0         23.0       5.5   \n",
      "8                        0.0            3.0  22.0          2.5       0.0   \n",
      "9                        0.0            3.0  27.0          6.0       0.0   \n",
      "\n",
      "   religious  educ  \n",
      "0        3.0  17.0  \n",
      "1        1.0  14.0  \n",
      "2        1.0  16.0  \n",
      "3        3.0  16.0  \n",
      "4        1.0  14.0  \n",
      "5        2.0  14.0  \n",
      "6        2.0  12.0  \n",
      "7        2.0  12.0  \n",
      "8        2.0  12.0  \n",
      "9        1.0  16.0  \n"
     ]
    }
   ],
   "source": [
    "import numpy as np\n",
    "import pandas as pd\n",
    "import statsmodels.api as sm\n",
    "import matplotlib.pyplot as plt\n",
    "from patsy import dmatrices\n",
    "from sklearn.linear_model import LogisticRegression\n",
    "from sklearn.model_selection import train_test_split\n",
    "from sklearn import metrics \n",
    "from sklearn.model_selection import cross_val_score\n",
    "dta =sm.datasets.fair.load_pandas().data\n",
    "\n",
    "#add \"affair\" column: 1 represents having affairs, 0\n",
    "#represents not \n",
    "dta['affair'] = (dta.affairs >\n",
    "0).astype(int)\n",
    "y, X = dmatrices('affair ~ rate_marriage + age +yrs_married + children + religious + educ + C(occupation) + C(occupation_husb)', dta, return_type=\"dataframe\")\n",
    "print(X.head(10))\n",
    "X = X.rename(columns =\n",
    "{'C(occupation)[T.2.0]':'occ_2',\n",
    "\n",
    "'C(occupation)[T.3.0]':'occ_3',\n",
    "'C(occupation)[T.4.0]':'occ_4',\n",
    "'C(occupation)[T.5.0]':'occ_5',\n",
    "'C(occupation)[T.6.0]':'occ_6',\n",
    "'C(occupation_husb)[T.2.0]':'occ_husb_2',\n",
    "'C(occupation_husb)[T.3.0]':'occ_husb_3',\n",
    "'C(occupation_husb)[T.4.0]':'occ_husb_4',\n",
    "'C(occupation_husb)[T.5.0]':'occ_husb_5',\n",
    "'C(occupation_husb)[T.6.0]':'occ_husb_6'})\n",
    "\n",
    "y = np.ravel(y)\n"
   ]
  },
  {
   "cell_type": "code",
   "execution_count": 88,
   "metadata": {},
   "outputs": [
    {
     "name": "stdout",
     "output_type": "stream",
     "text": [
      "Index(['rate_marriage', 'age', 'yrs_married', 'children', 'religious', 'educ',\n",
      "       'occupation', 'occupation_husb', 'affairs', 'affair'],\n",
      "      dtype='object')\n",
      "Index(['Intercept', 'occ_2', 'occ_3', 'occ_4', 'occ_5', 'occ_6', 'occ_husb_2',\n",
      "       'occ_husb_3', 'occ_husb_4', 'occ_husb_5', 'occ_husb_6', 'rate_marriage',\n",
      "       'age', 'yrs_married', 'children', 'religious', 'educ'],\n",
      "      dtype='object')\n"
     ]
    }
   ],
   "source": [
    "print(dta.columns)\n",
    "print(X.columns)\n"
   ]
  },
  {
   "cell_type": "code",
   "execution_count": 26,
   "metadata": {},
   "outputs": [
    {
     "name": "stdout",
     "output_type": "stream",
     "text": [
      "[1. 1. 1. ... 0. 0. 0.]\n"
     ]
    }
   ],
   "source": [
    "print(y)"
   ]
  },
  {
   "cell_type": "code",
   "execution_count": 37,
   "metadata": {},
   "outputs": [
    {
     "name": "stdout",
     "output_type": "stream",
     "text": [
      "Index(['Intercept', 'occ_2', 'occ_3', 'occ_4', 'occ_5', 'occ_6', 'occ_husb_2',\n",
      "       'occ_husb_3', 'occ_husb_4', 'occ_husb_5', 'occ_husb_6', 'rate_marriage',\n",
      "       'age', 'yrs_married', 'children', 'religious', 'educ'],\n",
      "      dtype='object')\n"
     ]
    }
   ],
   "source": [
    "from sklearn.linear_model import Lasso\n",
    "features=X.columns\n",
    "lasso=Lasso(alpha=0.1)\n",
    "print(features)"
   ]
  },
  {
   "cell_type": "code",
   "execution_count": 38,
   "metadata": {},
   "outputs": [
    {
     "name": "stdout",
     "output_type": "stream",
     "text": [
      "[ 0.         -0.          0.         -0.          0.          0.\n",
      "  0.          0.         -0.          0.         -0.         -0.04293502\n",
      " -0.          0.01042355  0.         -0.         -0.        ]\n"
     ]
    }
   ],
   "source": [
    "co=lasso.fit(X,y).coef_\n",
    "print(co)"
   ]
  },
  {
   "cell_type": "code",
   "execution_count": 52,
   "metadata": {
    "scrolled": true
   },
   "outputs": [
    {
     "data": {
      "image/png": "[encoded data removed]",
      "text/plain": [
       "<Figure size 432x288 with 1 Axes>"
      ]
     },
     "metadata": {
      "needs_background": "light"
     },
     "output_type": "display_data"
    }
   ],
   "source": [
    "plt.plot(range(len(features)),co)\n",
    "plt.xticks(range(len(features)),features,rotation=70)\n",
    "plt.show()"
   ]
  },
  {
   "cell_type": "markdown",
   "metadata": {},
   "source": [
    "From the above figure we come to know that yrs_married is the most important feature.\n"
   ]
  },
  {
   "cell_type": "code",
   "execution_count": 48,
   "metadata": {},
   "outputs": [
    {
     "data": {
      "image/png": "[encoded data removed]",
      "text/plain": [
       "<Figure size 432x288 with 1 Axes>"
      ]
     },
     "metadata": {
      "needs_background": "light"
     },
     "output_type": "display_data"
    }
   ],
   "source": [
    "pd.crosstab([dta.age],dta.affairs.astype(bool)).plot(kind='bar')\n",
    "plt.show()"
   ]
  },
  {
   "cell_type": "code",
   "execution_count": 50,
   "metadata": {},
   "outputs": [
    {
     "data": {
      "image/png": "[encoded data removed]",
      "text/plain": [
       "<Figure size 432x288 with 1 Axes>"
      ]
     },
     "metadata": {
      "needs_background": "light"
     },
     "output_type": "display_data"
    }
   ],
   "source": [
    "pd.crosstab([dta.yrs_married],dta.affairs.astype(bool)).plot(kind='bar')\n",
    "plt.show()"
   ]
  },
  {
   "cell_type": "code",
   "execution_count": 89,
   "metadata": {},
   "outputs": [
    {
     "name": "stdout",
     "output_type": "stream",
     "text": [
      "[1. 0. 0. ... 0. 0. 0.]\n",
      "Accuracy is  0.7293193717277487\n",
      "[[1171  115]\n",
      " [ 402  222]]\n"
     ]
    }
   ],
   "source": [
    "import warnings\n",
    "warnings.filterwarnings('ignore')\n",
    "x_train,x_test,y_train,y_test=train_test_split(X,y,test_size=0.3,random_state=21)\n",
    "logreg=LogisticRegression()\n",
    "logreg.fit(x_train,y_train)\n",
    "y_pred=logreg.predict(x_test)\n",
    "print(y_pred)\n",
    "print(\"Accuracy is \",logreg.score(x_test,y_test))\n",
    "print(metrics.confusion_matrix(y_test, y_pred))"
   ]
  },
  {
   "cell_type": "code",
   "execution_count": 90,
   "metadata": {},
   "outputs": [
    {
     "name": "stdout",
     "output_type": "stream",
     "text": [
      "Accuracy using cross val is 0.7238477939970478\n"
     ]
    }
   ],
   "source": [
    "cv=cross_val_score(logreg,X,y,cv=5,scoring='accuracy')\n",
    "print(\"Accuracy using cross val is\",cv.mean())"
   ]
  },
  {
   "cell_type": "code",
   "execution_count": 91,
   "metadata": {},
   "outputs": [
    {
     "data": {
      "text/plain": [
       "array([[0.44960176, 0.55039824],\n",
       "       [0.73546232, 0.26453768],\n",
       "       [0.62228822, 0.37771178],\n",
       "       ...,\n",
       "       [0.50474967, 0.49525033],\n",
       "       [0.50696642, 0.49303358],\n",
       "       [0.79229085, 0.20770915]])"
      ]
     },
     "execution_count": 91,
     "metadata": {},
     "output_type": "execute_result"
    }
   ],
   "source": [
    "prob=logreg.predict_proba(x_test)\n",
    "prob"
   ]
  },
  {
   "cell_type": "code",
   "execution_count": 92,
   "metadata": {},
   "outputs": [
    {
     "name": "stdout",
     "output_type": "stream",
     "text": [
      "Roc_Area under the curve score is 0.7524019769111137\n"
     ]
    }
   ],
   "source": [
    "print('Roc_Area under the curve score is',metrics.roc_auc_score(y_test, prob[:, 1]))\n"
   ]
  },
  {
   "cell_type": "code",
   "execution_count": null,
   "metadata": {},
   "outputs": [],
   "source": []
  },
  {
   "cell_type": "code",
   "execution_count": null,
   "metadata": {},
   "outputs": [],
   "source": []
  }
 ],
 "metadata": {
  "kernelspec": {
   "display_name": "Python 3.8.0 64-bit",
   "language": "python",
   "name": "python38064bit207c21b472cb42fd81bea73c91de7090"
  },
  "language_info": {
   "codemirror_mode": {
    "name": "ipython",
    "version": 3
   },
   "file_extension": ".py",
   "mimetype": "text/x-python",
   "name": "python",
   "nbconvert_exporter": "python",
   "pygments_lexer": "ipython3",
   "version": "3.8.0"
  }
 },
 "nbformat": 4,
 "nbformat_minor": 2
}
