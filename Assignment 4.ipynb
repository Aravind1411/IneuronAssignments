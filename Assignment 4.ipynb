{
 "cells": [
  {
   "cell_type": "code",
   "execution_count": 3,
   "metadata": {},
   "outputs": [
    {
     "name": "stdout",
     "output_type": "stream",
     "text": [
      "Area of triangle is  (1.4998798865218462e-16+2.449489742783178j)\n"
     ]
    }
   ],
   "source": [
    "'''1.1 Write a Python Program(with class concepts) to find the area of the triangle using the below\n",
    "formula.\n",
    "area = (s*(s-a)*(s-b)*(s-c)) ** 0.5\n",
    "Function to take the length of the sides of triangle from user should be defined in the parent\n",
    "class and function to calculate the area should be defined in subclass.\n",
    "'''\n",
    "class ParentClass:\n",
    "    def __init__(self,s,a,b,c):\n",
    "        self.a=a\n",
    "        self.b=b\n",
    "        self.c=c\n",
    "        self.s=s\n",
    "class Sub(ParentClass):\n",
    "    def __init__(self, s, a, b, c):\n",
    "        super().__init__(s, a, b, c)\n",
    "    def calArea(self):\n",
    "        area = (self.s*(self.s-self.a)*(self.s-self.b)*(self.s-self.c)) ** 0.5\n",
    "        return area\n",
    "subobject=Sub(1,2,3,4)\n",
    "print(\"Area of triangle is \",subobject.calArea())\n",
    "\n",
    "\n"
   ]
  },
  {
   "cell_type": "code",
   "execution_count": 4,
   "metadata": {},
   "outputs": [
    {
     "name": "stdout",
     "output_type": "stream",
     "text": [
      "['aravind', 'python']\n",
      "['aravind', 'python']\n"
     ]
    }
   ],
   "source": [
    "'''1.2 Write a function filter_long_words() that takes a list of words and an integer n and returns\n",
    "the list of words that are longer than n.'''\n",
    "a=[\"aravind\",\"python\",\"hi\"]\n",
    "print(list(filter(lambda x:len(x)>3,a)))\n",
    "def filter_long_words(l,n):\n",
    "    if(len(l)>n):\n",
    "        return True\n",
    "print(list(filter(lambda x:filter_long_words(x,3),a)))"
   ]
  },
  {
   "cell_type": "code",
   "execution_count": 5,
   "metadata": {},
   "outputs": [
    {
     "name": "stdout",
     "output_type": "stream",
     "text": [
      "[7, 6, 2]\n"
     ]
    }
   ],
   "source": [
    "'''2.1 Write a Python program using function concept that maps list of words into a list of integers\n",
    "representing the lengths of the corresponding words.\n",
    "Hint: If a list [ ab,cde,erty] is passed on to the python function output should come as [2,3,4]\n",
    "Here 2,3 and 4 are the lengths of the words in the list.'''\n",
    "def returnlength(a):\n",
    "    return len(a)\n",
    "print(list(map(lambda x:returnlength(x),a)))"
   ]
  },
  {
   "cell_type": "code",
   "execution_count": 6,
   "metadata": {},
   "outputs": [
    {
     "name": "stdout",
     "output_type": "stream",
     "text": [
      "['a', 'e', 'u']\n"
     ]
    }
   ],
   "source": [
    "'''2.2 Write a Python function which takes a character (i.e. a string of length 1) and returns True if\n",
    "it is a vowel, False otherwise.'''\n",
    "\n",
    "def ifvowel(a):\n",
    "    if(a in['a','e','i','o','u']):\n",
    "        return True\n",
    "b=['a','n','r','e','u']\n",
    "print(list(filter(lambda x:ifvowel(x),b)))"
   ]
  },
  {
   "cell_type": "code",
   "execution_count": null,
   "metadata": {},
   "outputs": [],
   "source": []
  }
 ],
 "metadata": {
  "kernelspec": {
   "display_name": "Python 3",
   "language": "python",
   "name": "python3"
  },
  "language_info": {
   "codemirror_mode": {
    "name": "ipython",
    "version": 3
   },
   "file_extension": ".py",
   "mimetype": "text/x-python",
   "name": "python",
   "nbconvert_exporter": "python",
   "pygments_lexer": "ipython3",
   "version": "3.8.0"
  }
 },
 "nbformat": 4,
 "nbformat_minor": 4
}
